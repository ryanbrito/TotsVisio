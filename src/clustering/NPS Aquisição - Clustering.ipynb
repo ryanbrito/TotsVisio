{
 "cells": [
  {
   "cell_type": "markdown",
   "id": "e9a1fe48",
   "metadata": {},
   "source": [
    "# Anotação aos professores e avaliadores:\n",
    "Para o funcionamento adequado do código, é necessário que a variável `AZURE_ACCOUNT_KEY` na célula abaixo seja preenchida com a **secret key** enviada junto ao PDF do projeto, ou que essa chave seja configurada como variável de ambiente `export AZURE_ACCOUNT_KEY=\"secret_key_aqui\"`.\n",
    "Essa medida foi adotada por questões de segurança, uma vez que o repositório é público.\n",
    "Agradecemos desde já pela compreensão e colaboração."
   ]
  },
  {
   "cell_type": "code",
   "execution_count": null,
   "id": "21db6a27",
   "metadata": {},
   "outputs": [],
   "source": [
    "# Coloque aqui sua chave de conta do Azure\n",
    "AZURE_ACCOUNT_KEY = \"\" # <-- INSIRA AQUI SUA CHAVE DO AZURE Entre as aspas duplas"
   ]
  },
  {
   "cell_type": "markdown",
   "id": "d1fa26fd-ecc4-4079-ba66-f8db64164e1e",
   "metadata": {},
   "source": [
    "# Imports"
   ]
  },
  {
   "cell_type": "code",
   "execution_count": null,
   "id": "3598fd3d-5b3b-4a74-9251-f73e64e99b99",
   "metadata": {},
   "outputs": [],
   "source": [
    "import os\n",
    "from io import BytesIO, StringIO\n",
    "\n",
    "import matplotlib.pyplot as plt\n",
    "from mpl_toolkits.mplot3d import Axes3D\n",
    "import numpy as np\n",
    "import pandas as pd\n",
    "import seaborn as sns\n",
    "from azure.storage.blob import BlobServiceClient\n",
    "from sklearn.cluster import KMeans\n",
    "from sklearn.decomposition import PCA\n",
    "from sklearn.manifold import TSNE\n",
    "from sklearn.metrics import silhouette_score\n",
    "from sklearn.preprocessing import StandardScaler"
   ]
  },
  {
   "cell_type": "markdown",
   "id": "d8b8740d-83b7-414b-9fd9-b3853820b86b",
   "metadata": {},
   "source": [
    "# Configuration"
   ]
  },
  {
   "cell_type": "code",
   "execution_count": 7,
   "id": "e2c07fee-da1b-400d-8de9-57d3ada970f0",
   "metadata": {},
   "outputs": [],
   "source": [
    "AZURE_ACCOUNT_KEY = os.environ.get(\"AZURE_ACCOUNT_KEY\", AZURE_ACCOUNT_KEY)\n",
    "if not AZURE_ACCOUNT_KEY:\n",
    "    raise ValueError(\"A chave da conta do Azure não foi definida. Por favor, defina a variável AZURE_ACCOUNT_KEY.\")\n",
    "\n",
    "AZURE_CONNECTION_STRING = f\"DefaultEndpointsProtocol=https;AccountName=totsvisiodb;AccountKey={AZURE_ACCOUNT_KEY};EndpointSuffix=core.windows.net\"\n",
    "\n",
    "# Inicializa o cliente do Blob\n",
    "blob_service_client = BlobServiceClient.from_connection_string(AZURE_CONNECTION_STRING)"
   ]
  },
  {
   "cell_type": "markdown",
   "id": "60bafcad-3de3-430a-8fa9-de9fb4010897",
   "metadata": {},
   "source": [
    "# Dataframe Definition:"
   ]
  },
  {
   "cell_type": "code",
   "execution_count": 8,
   "id": "958a86af-77e8-40cb-9a04-97195971b9cd",
   "metadata": {},
   "outputs": [],
   "source": [
    "CONTAINER_NAME = \"csvs-tratados-gpt\"\n",
    "BLOB_NAME = \"tratado_nps_transacional_aquisicao.csv\"\n",
    "\n",
    "blob_client = blob_service_client.get_blob_client(container=CONTAINER_NAME, blob=BLOB_NAME)\n",
    "downloaded_blob = blob_client.download_blob().readall()\n",
    "nps_aquisicao_df = pd.read_csv(BytesIO(downloaded_blob), encoding=\"utf-8-sig\", sep=\",\")"
   ]
  },
  {
   "cell_type": "code",
   "execution_count": 9,
   "id": "d9799664-c146-45f4-b608-dc1f643e3eff",
   "metadata": {},
   "outputs": [
    {
     "data": {
      "text/html": [
       "<div>\n",
       "<style scoped>\n",
       "    .dataframe tbody tr th:only-of-type {\n",
       "        vertical-align: middle;\n",
       "    }\n",
       "\n",
       "    .dataframe tbody tr th {\n",
       "        vertical-align: top;\n",
       "    }\n",
       "\n",
       "    .dataframe thead th {\n",
       "        text-align: right;\n",
       "    }\n",
       "</style>\n",
       "<table border=\"1\" class=\"dataframe\">\n",
       "  <thead>\n",
       "    <tr style=\"text-align: right;\">\n",
       "      <th></th>\n",
       "      <th>CD_CLIENTE</th>\n",
       "      <th>DATA_RESPOSTA</th>\n",
       "      <th>Nota NPS</th>\n",
       "      <th>Nota Agilidade</th>\n",
       "      <th>Nota Conhecimento</th>\n",
       "      <th>Nota Custo</th>\n",
       "      <th>Nota Facilidade</th>\n",
       "      <th>Nota Flexibilidade</th>\n",
       "    </tr>\n",
       "  </thead>\n",
       "  <tbody>\n",
       "    <tr>\n",
       "      <th>0</th>\n",
       "      <td>TB1393</td>\n",
       "      <td>2025-02-26</td>\n",
       "      <td>8</td>\n",
       "      <td>9.0</td>\n",
       "      <td>8.0</td>\n",
       "      <td>8.0</td>\n",
       "      <td>8.0</td>\n",
       "      <td>9.0</td>\n",
       "    </tr>\n",
       "    <tr>\n",
       "      <th>1</th>\n",
       "      <td>TFEEGY</td>\n",
       "      <td>2025-02-25</td>\n",
       "      <td>10</td>\n",
       "      <td>8.0</td>\n",
       "      <td>10.0</td>\n",
       "      <td>6.0</td>\n",
       "      <td>6.0</td>\n",
       "      <td>10.0</td>\n",
       "    </tr>\n",
       "    <tr>\n",
       "      <th>2</th>\n",
       "      <td>TFCUYM</td>\n",
       "      <td>2025-02-25</td>\n",
       "      <td>1</td>\n",
       "      <td>NaN</td>\n",
       "      <td>NaN</td>\n",
       "      <td>NaN</td>\n",
       "      <td>NaN</td>\n",
       "      <td>NaN</td>\n",
       "    </tr>\n",
       "    <tr>\n",
       "      <th>3</th>\n",
       "      <td>TFEEAG</td>\n",
       "      <td>2025-02-18</td>\n",
       "      <td>10</td>\n",
       "      <td>10.0</td>\n",
       "      <td>10.0</td>\n",
       "      <td>10.0</td>\n",
       "      <td>10.0</td>\n",
       "      <td>10.0</td>\n",
       "    </tr>\n",
       "    <tr>\n",
       "      <th>4</th>\n",
       "      <td>TFEDWL</td>\n",
       "      <td>2025-02-18</td>\n",
       "      <td>9</td>\n",
       "      <td>9.0</td>\n",
       "      <td>6.0</td>\n",
       "      <td>6.0</td>\n",
       "      <td>7.0</td>\n",
       "      <td>6.0</td>\n",
       "    </tr>\n",
       "  </tbody>\n",
       "</table>\n",
       "</div>"
      ],
      "text/plain": [
       "  CD_CLIENTE DATA_RESPOSTA  Nota NPS  Nota Agilidade  Nota Conhecimento  \\\n",
       "0     TB1393    2025-02-26         8             9.0                8.0   \n",
       "1     TFEEGY    2025-02-25        10             8.0               10.0   \n",
       "2     TFCUYM    2025-02-25         1             NaN                NaN   \n",
       "3     TFEEAG    2025-02-18        10            10.0               10.0   \n",
       "4     TFEDWL    2025-02-18         9             9.0                6.0   \n",
       "\n",
       "   Nota Custo  Nota Facilidade  Nota Flexibilidade  \n",
       "0         8.0              8.0                 9.0  \n",
       "1         6.0              6.0                10.0  \n",
       "2         NaN              NaN                 NaN  \n",
       "3        10.0             10.0                10.0  \n",
       "4         6.0              7.0                 6.0  "
      ]
     },
     "execution_count": 9,
     "metadata": {},
     "output_type": "execute_result"
    }
   ],
   "source": [
    "nps_aquisicao_df.head()"
   ]
  },
  {
   "cell_type": "markdown",
   "id": "2bc97514-abfa-4b7f-b908-95e06e65dc61",
   "metadata": {},
   "source": [
    "# Clustering"
   ]
  },
  {
   "cell_type": "code",
   "execution_count": 10,
   "id": "59c54d84-3c30-4a2d-8f01-6e116b8dcd28",
   "metadata": {},
   "outputs": [],
   "source": [
    "# 1. Seleciona as features numéricas relevantes\n",
    "features = [\n",
    "    'Nota NPS',\n",
    "    'Nota Agilidade',\n",
    "    'Nota Conhecimento',\n",
    "    'Nota Custo',\n",
    "    'Nota Facilidade',\n",
    "    'Nota Flexibilidade'\n",
    "]\n",
    "X = nps_aquisicao_df[features].copy()"
   ]
  },
  {
   "cell_type": "code",
   "execution_count": 11,
   "id": "803b4093-4ab2-4b62-a415-808f2b67fbd5",
   "metadata": {},
   "outputs": [],
   "source": [
    "# Tratar NaNs (preencher com média)\n",
    "X = X.fillna(X.mean())"
   ]
  },
  {
   "cell_type": "code",
   "execution_count": 12,
   "id": "1abe3013-c7b7-4089-8541-3bd029d684aa",
   "metadata": {},
   "outputs": [],
   "source": [
    "# Padronizar os dados\n",
    "scaler = StandardScaler()\n",
    "X_scaled = scaler.fit_transform(X)"
   ]
  },
  {
   "cell_type": "code",
   "execution_count": 13,
   "id": "3cf43aff-b9b4-4e7a-a356-504dcea9170e",
   "metadata": {},
   "outputs": [],
   "source": [
    "os.environ[\"LOKY_MAX_CPU_COUNT\"] = \"8\"\n",
    "os.environ[\"OMP_NUM_THREADS\"] = \"1\"\n",
    "\n",
    "# Aplicar KMeans com 3 clusters (inicial)\n",
    "kmeans = KMeans(n_clusters=3, random_state=42, n_init=10)\n",
    "clusters = kmeans.fit_predict(X_scaled)"
   ]
  },
  {
   "cell_type": "markdown",
   "id": "fb2432df",
   "metadata": {},
   "source": [
    "A célula abaixo pode estar em formato raw para evitar risco de inserção no container novamente."
   ]
  },
  {
   "cell_type": "code",
   "execution_count": 14,
   "id": "91371113-ab77-4d38-bf73-fc06fe1fd13a",
   "metadata": {},
   "outputs": [
    {
     "name": "stdout",
     "output_type": "stream",
     "text": [
      "  CD_CLIENTE DATA_RESPOSTA  Nota NPS  Nota Agilidade  Nota Conhecimento  \\\n",
      "0     TB1393    2025-02-26         8             9.0                8.0   \n",
      "1     TFEEGY    2025-02-25        10             8.0               10.0   \n",
      "2     TFCUYM    2025-02-25         1             NaN                NaN   \n",
      "3     TFEEAG    2025-02-18        10            10.0               10.0   \n",
      "4     TFEDWL    2025-02-18         9             9.0                6.0   \n",
      "\n",
      "   Nota Custo  Nota Facilidade  Nota Flexibilidade  cluster  \n",
      "0         8.0              8.0                 9.0        0  \n",
      "1         6.0              6.0                10.0        0  \n",
      "2         NaN              NaN                 NaN        0  \n",
      "3        10.0             10.0                10.0        2  \n",
      "4         6.0              7.0                 6.0        0  \n"
     ]
    }
   ],
   "source": [
    "# Adicionar os clusters ao DataFrame\n",
    "nps_aquisicao_df['cluster'] = clusters\n",
    "\n",
    "# Visualizar os primeiros registros com clusters\n",
    "print(nps_aquisicao_df.head())"
   ]
  },
  {
   "cell_type": "code",
   "execution_count": 15,
   "id": "008157a2-5aab-44e6-8335-c8e1db6e6cac",
   "metadata": {},
   "outputs": [
    {
     "data": {
      "image/png": "[encoded data removed]",
      "text/plain": [
       "<Figure size 800x600 with 2 Axes>"
      ]
     },
     "metadata": {},
     "output_type": "display_data"
    }
   ],
   "source": [
    "# Visualizar os clusters (exemplo: Agilidade vs Facilidade)\n",
    "plt.figure(figsize=(8, 6))\n",
    "plt.scatter(nps_aquisicao_df['Nota Agilidade'], nps_aquisicao_df['Nota Facilidade'], c=nps_aquisicao_df['cluster'], cmap='viridis')\n",
    "plt.xlabel('Nota Agilidade')\n",
    "plt.ylabel('Nota Facilidade')\n",
    "plt.title('Clusters de NPS - Aquisicao')\n",
    "plt.colorbar(label='Cluster')\n",
    "plt.show()"
   ]
  },
  {
   "cell_type": "code",
   "execution_count": 16,
   "id": "cd052e37-0950-43f4-955b-a899ea1c1279",
   "metadata": {},
   "outputs": [
    {
     "name": "stdout",
     "output_type": "stream",
     "text": [
      "Silhouette Score: 0.439\n"
     ]
    }
   ],
   "source": [
    "# Validar com Silhouette Score\n",
    "sil_score = silhouette_score(X_scaled, clusters)\n",
    "print(f'Silhouette Score: {sil_score:.3f}')"
   ]
  },
  {
   "cell_type": "markdown",
   "id": "7a220434-50db-4717-b6c2-c2f83d6c629b",
   "metadata": {},
   "source": [
    "# Subindo Silhouette Score"
   ]
  },
  {
   "cell_type": "markdown",
   "id": "90aa4620-7c05-45aa-8f25-412d3f626413",
   "metadata": {},
   "source": [
    "### Aplicando PCA para Redução de Dimensionalidade"
   ]
  },
  {
   "cell_type": "code",
   "execution_count": 17,
   "id": "9ced7965-b2e9-4f56-92d7-ea2900031fd7",
   "metadata": {},
   "outputs": [
    {
     "name": "stdout",
     "output_type": "stream",
     "text": [
      "Variância Explicada: 0.94\n",
      "Silhouette Score com PCA: 0.511\n",
      "\n",
      "DataFrame com Clusters Atribuídos (PCA):\n",
      "  CD_CLIENTE  Nota NPS  Nota Agilidade  Nota Facilidade  cluster_pca\n",
      "0     TB1393         8             9.0              8.0            0\n",
      "1     TFEEGY        10             8.0              6.0            0\n",
      "2     TFCUYM         1             NaN              NaN            2\n",
      "3     TFEEAG        10            10.0             10.0            0\n",
      "4     TFEDWL         9             9.0              7.0            2\n",
      "5     TFEBQC        10            10.0             10.0            0\n",
      "6     TFEDWT         0             NaN              NaN            2\n",
      "7     TFEDXA         9             NaN              NaN            0\n",
      "8     TFEDY6        10            10.0             10.0            0\n",
      "9     TFEDG2        10             NaN              NaN            0\n"
     ]
    },
    {
     "data": {
      "image/png": "[encoded data removed]",
      "text/plain": [
       "<Figure size 800x600 with 2 Axes>"
      ]
     },
     "metadata": {},
     "output_type": "display_data"
    }
   ],
   "source": [
    "# PCA para 2-3 componentes (reduz ruído)\n",
    "pca = PCA(n_components=3)\n",
    "X_pca = pca.fit_transform(X_scaled)\n",
    "print(f'Variância Explicada: {np.sum(pca.explained_variance_ratio_):.2f}')\n",
    "\n",
    "# Clustering no espaço PCA\n",
    "kmeans = KMeans(n_clusters=3, random_state=42, n_init=10)\n",
    "clusters = kmeans.fit_predict(X_pca)\n",
    "sil_score = silhouette_score(X_pca, clusters)\n",
    "print(f'Silhouette Score com PCA: {sil_score:.3f}')\n",
    "\n",
    "# Adicionar os clusters ao DataFrame original\n",
    "nps_aquisicao_df['cluster_pca'] = clusters  # Nova coluna para os clusters\n",
    "\n",
    "# Imprimir os primeiros registros com os clusters atribuídos\n",
    "print(\"\\nDataFrame com Clusters Atribuídos (PCA):\")\n",
    "print(nps_aquisicao_df[['CD_CLIENTE', 'Nota NPS', 'Nota Agilidade', 'Nota Facilidade', 'cluster_pca']].head(10))\n",
    "\n",
    "# Visualização em 2D (se n_components=2)\n",
    "plt.figure(figsize=(8, 6))\n",
    "plt.scatter(X_pca[:, 0], X_pca[:, 1], c=clusters, cmap='viridis')\n",
    "plt.xlabel('Componente Principal 1')\n",
    "plt.ylabel('Componente Principal 2')\n",
    "plt.title('Clusters no Espaço PCA')\n",
    "plt.colorbar(label='Cluster')\n",
    "plt.show()"
   ]
  },
  {
   "cell_type": "code",
   "execution_count": 18,
   "id": "1105326e-17e9-4470-b65f-fb9b8bb04777",
   "metadata": {},
   "outputs": [
    {
     "data": {
      "text/plain": [
       "cluster_pca\n",
       "0    127\n",
       "2     36\n",
       "1      9\n",
       "Name: count, dtype: int64"
      ]
     },
     "execution_count": 18,
     "metadata": {},
     "output_type": "execute_result"
    }
   ],
   "source": [
    "nps_aquisicao_df.cluster_pca.value_counts()"
   ]
  },
  {
   "cell_type": "code",
   "execution_count": 19,
   "id": "bf7a703d-988e-438e-b165-b68fa9929e82",
   "metadata": {
    "scrolled": true
   },
   "outputs": [
    {
     "name": "stdout",
     "output_type": "stream",
     "text": [
      "\n",
      "Exemplos do Cluster 0:\n",
      "  CD_CLIENTE  Nota NPS  Nota Agilidade  Nota Facilidade  cluster_pca\n",
      "0     TB1393         8             9.0              8.0            0\n",
      "1     TFEEGY        10             8.0              6.0            0\n",
      "3     TFEEAG        10            10.0             10.0            0\n",
      "\n",
      "Exemplos do Cluster 1:\n",
      "    CD_CLIENTE  Nota NPS  Nota Agilidade  Nota Facilidade  cluster_pca\n",
      "95      TFDTK4         0             0.0              0.0            1\n",
      "116     TFDSKV         0             0.0              0.0            1\n",
      "126     TFDSNA         1             1.0              1.0            1\n",
      "\n",
      "Exemplos do Cluster 2:\n",
      "  CD_CLIENTE  Nota NPS  Nota Agilidade  Nota Facilidade  cluster_pca\n",
      "2     TFCUYM         1             NaN              NaN            2\n",
      "4     TFEDWL         9             9.0              7.0            2\n",
      "6     TFEDWT         0             NaN              NaN            2\n"
     ]
    }
   ],
   "source": [
    "# Agrupar por cluster e selecionar dois exemplos de cada\n",
    "for cluster in sorted(nps_aquisicao_df['cluster_pca'].unique()):\n",
    "    print(f\"\\nExemplos do Cluster {cluster}:\")\n",
    "    # Filtra o DataFrame para o cluster atual e pega os dois primeiros registros\n",
    "    exemplos = nps_aquisicao_df[nps_aquisicao_df['cluster_pca'] == cluster][['CD_CLIENTE', 'Nota NPS', 'Nota Agilidade', 'Nota Facilidade', 'cluster_pca']].head(3)\n",
    "    print(exemplos)"
   ]
  },
  {
   "cell_type": "code",
   "execution_count": null,
   "id": "1176fd3b-a7b5-4557-a109-21a7e44c4e50",
   "metadata": {},
   "outputs": [],
   "source": []
  },
  {
   "cell_type": "markdown",
   "id": "f11078ad-258d-442c-bbd0-96897601d052",
   "metadata": {},
   "source": [
    "---"
   ]
  },
  {
   "cell_type": "markdown",
   "id": "eac1b61d-5b4f-4ef1-972b-2fc2f1b05dbe",
   "metadata": {},
   "source": [
    "## DBSCAN and TSNE"
   ]
  },
  {
   "cell_type": "markdown",
   "id": "20d42ce8-1639-441e-908a-34e38c132146",
   "metadata": {},
   "source": [
    "### DBSCAN"
   ]
  },
  {
   "cell_type": "code",
   "execution_count": 24,
   "id": "edf71be8-6a65-4f8f-920f-0654065cac0a",
   "metadata": {},
   "outputs": [
    {
     "name": "stdout",
     "output_type": "stream",
     "text": [
      "Número de Clusters: 3\n",
      "\n",
      "DataFrame com Clusters Atribuídos:\n",
      "  CD_CLIENTE  Nota NPS  Nota Agilidade  Nota Facilidade  cluster_dbscan\n",
      "0     TB1393         8             9.0              8.0              -1\n",
      "1     TFEEGY        10             8.0              6.0              -1\n",
      "2     TFCUYM         1             NaN              NaN               0\n",
      "3     TFEEAG        10            10.0             10.0               1\n",
      "4     TFEDWL         9             9.0              7.0              -1\n",
      "5     TFEBQC        10            10.0             10.0               1\n",
      "6     TFEDWT         0             NaN              NaN               0\n",
      "7     TFEDXA         9             NaN              NaN               2\n",
      "8     TFEDY6        10            10.0             10.0               1\n",
      "9     TFEDG2        10             NaN              NaN               2\n",
      "\n",
      "Silhouette Score DBSCAN: 0.766\n"
     ]
    }
   ],
   "source": [
    "from sklearn.cluster import DBSCAN\n",
    "# DBSCAN\n",
    "dbscan = DBSCAN(eps=0.5, min_samples=5)  # Ajuste eps e min_samples baseado no seu dataset\n",
    "clusters = dbscan.fit_predict(X_scaled)\n",
    "n_clusters = len(set(clusters)) - (1 if -1 in clusters else 0)  # Ignora ruído (-1)\n",
    "print(f'Número de Clusters: {n_clusters}')\n",
    "\n",
    "# Adicionar os clusters ao DataFrame original\n",
    "nps_aquisicao_df['cluster_dbscan'] = clusters\n",
    "\n",
    "# Imprimir os primeiros registros com os clusters atribuídos\n",
    "print(\"\\nDataFrame com Clusters Atribuídos:\")\n",
    "print(nps_aquisicao_df[['CD_CLIENTE', 'Nota NPS', 'Nota Agilidade', 'Nota Facilidade', 'cluster_dbscan']].head(10))\n",
    "\n",
    "# Silhouette (só se >1 cluster e sem ruído total)\n",
    "if n_clusters > 1:\n",
    "    sil_score = silhouette_score(X_scaled[clusters != -1], clusters[clusters != -1])\n",
    "    print(f'\\nSilhouette Score DBSCAN: {sil_score:.3f}')\n",
    "else:\n",
    "    print('\\nDBSCAN não encontrou clusters úteis; ajuste eps/min_samples.')"
   ]
  },
  {
   "cell_type": "code",
   "execution_count": 25,
   "id": "5510ffd8-a90a-4437-8fd6-0718d3dfc15c",
   "metadata": {},
   "outputs": [
    {
     "data": {
      "text/plain": [
       "cluster_dbscan\n",
       " 2    67\n",
       "-1    55\n",
       " 1    34\n",
       " 0    16\n",
       "Name: count, dtype: int64"
      ]
     },
     "execution_count": 25,
     "metadata": {},
     "output_type": "execute_result"
    }
   ],
   "source": [
    "nps_aquisicao_df.cluster_dbscan.value_counts()"
   ]
  },
  {
   "cell_type": "markdown",
   "id": "f3de552f-7c5c-4050-854d-da622e8a9368",
   "metadata": {},
   "source": [
    "### TSNE Para visualização:"
   ]
  },
  {
   "cell_type": "code",
   "execution_count": 27,
   "id": "727d274a-706b-44ad-95a3-3fa96b08198b",
   "metadata": {},
   "outputs": [
    {
     "data": {
      "image/png": "[encoded data removed]",
      "text/plain": [
       "<Figure size 800x600 with 2 Axes>"
      ]
     },
     "metadata": {},
     "output_type": "display_data"
    }
   ],
   "source": [
    "# Reduzir dimensionalidade com t-SNE\n",
    "tsne = TSNE(n_components=2, random_state=42)\n",
    "X_tsne = tsne.fit_transform(X_scaled)\n",
    "\n",
    "# Plotar clusters no espaço t-SNE\n",
    "plt.figure(figsize=(8, 6))\n",
    "scatter = plt.scatter(X_tsne[:, 0], X_tsne[:, 1], c=nps_aquisicao_df['cluster_dbscan'], cmap='viridis')\n",
    "plt.scatter(X_tsne[nps_aquisicao_df['cluster_dbscan'] == -1, 0], \n",
    "            X_tsne[nps_aquisicao_df['cluster_dbscan'] == -1, 1], \n",
    "            c='red', marker='x', label='Ruído')\n",
    "plt.xlabel('t-SNE Componente 1')\n",
    "plt.ylabel('t-SNE Componente 2')\n",
    "plt.title('Clusters DBSCAN no Espaço t-SNE')\n",
    "plt.colorbar(scatter, label='Cluster')\n",
    "plt.legend()\n",
    "plt.show()"
   ]
  },
  {
   "cell_type": "code",
   "execution_count": null,
   "id": "668a7e36-2642-4519-8313-ff9b8fda14a3",
   "metadata": {},
   "outputs": [
    {
     "name": "stdout",
     "output_type": "stream",
     "text": [
      "\n",
      "Dois Exemplos de Cada Cluster:\n",
      "\n",
      "Cluster -1:\n",
      "  CD_CLIENTE  Nota NPS  Nota Agilidade  Nota Facilidade  cluster_dbscan\n",
      "0     TB1393         8             9.0              8.0              -1\n",
      "1     TFEEGY        10             8.0              6.0              -1\n",
      "4     TFEDWL         9             9.0              7.0              -1\n",
      "\n",
      "Cluster 0:\n",
      "   CD_CLIENTE  Nota NPS  Nota Agilidade  Nota Facilidade  cluster_dbscan\n",
      "2      TFCUYM         1             NaN              NaN               0\n",
      "6      TFEDWT         0             NaN              NaN               0\n",
      "11     TFEDLA         0             NaN              NaN               0\n",
      "\n",
      "Cluster 1:\n",
      "  CD_CLIENTE  Nota NPS  Nota Agilidade  Nota Facilidade  cluster_dbscan\n",
      "3     TFEEAG        10            10.0             10.0               1\n",
      "5     TFEBQC        10            10.0             10.0               1\n",
      "8     TFEDY6        10            10.0             10.0               1\n",
      "\n",
      "Cluster 2:\n",
      "   CD_CLIENTE  Nota NPS  Nota Agilidade  Nota Facilidade  cluster_dbscan\n",
      "7      TFEDXA         9             NaN              NaN               2\n",
      "9      TFEDG2        10             NaN              NaN               2\n",
      "14     TFEDI3        10             NaN              NaN               2\n"
     ]
    }
   ],
   "source": [
    "# Exibir 3 exemplos de cada cluster\n",
    "print(\"\\nDois Exemplos de Cada Cluster:\")\n",
    "for cluster in sorted(nps_aquisicao_df['cluster_dbscan'].unique()):\n",
    "    print(f\"\\nCluster {cluster}:\")\n",
    "    # Seleciona até 3 registros do cluster atual\n",
    "    examples = nps_aquisicao_df[nps_aquisicao_df['cluster_dbscan'] == cluster][['CD_CLIENTE', 'Nota NPS', 'Nota Agilidade', 'Nota Facilidade', 'cluster_dbscan']].head(3)\n",
    "    print(examples)"
   ]
  },
  {
   "cell_type": "markdown",
   "id": "40771d98-88c6-4af0-aa68-99dae1c4bf24",
   "metadata": {},
   "source": [
    "## Saving Clusters Data on ADLS 2"
   ]
  },
  {
   "cell_type": "code",
   "execution_count": 30,
   "id": "fa25309f-7ec9-4cd7-8eb2-90c9d7c92784",
   "metadata": {},
   "outputs": [
    {
     "data": {
      "text/html": [
       "<div>\n",
       "<style scoped>\n",
       "    .dataframe tbody tr th:only-of-type {\n",
       "        vertical-align: middle;\n",
       "    }\n",
       "\n",
       "    .dataframe tbody tr th {\n",
       "        vertical-align: top;\n",
       "    }\n",
       "\n",
       "    .dataframe thead th {\n",
       "        text-align: right;\n",
       "    }\n",
       "</style>\n",
       "<table border=\"1\" class=\"dataframe\">\n",
       "  <thead>\n",
       "    <tr style=\"text-align: right;\">\n",
       "      <th></th>\n",
       "      <th>CD_CLIENTE</th>\n",
       "      <th>DATA_RESPOSTA</th>\n",
       "      <th>Nota NPS</th>\n",
       "      <th>Nota Agilidade</th>\n",
       "      <th>Nota Conhecimento</th>\n",
       "      <th>Nota Custo</th>\n",
       "      <th>Nota Facilidade</th>\n",
       "      <th>Nota Flexibilidade</th>\n",
       "      <th>cluster</th>\n",
       "      <th>cluster_pca</th>\n",
       "      <th>cluster_dbscan</th>\n",
       "    </tr>\n",
       "  </thead>\n",
       "  <tbody>\n",
       "    <tr>\n",
       "      <th>0</th>\n",
       "      <td>TB1393</td>\n",
       "      <td>2025-02-26</td>\n",
       "      <td>8</td>\n",
       "      <td>9.0</td>\n",
       "      <td>8.0</td>\n",
       "      <td>8.0</td>\n",
       "      <td>8.0</td>\n",
       "      <td>9.0</td>\n",
       "      <td>0</td>\n",
       "      <td>0</td>\n",
       "      <td>-1</td>\n",
       "    </tr>\n",
       "    <tr>\n",
       "      <th>1</th>\n",
       "      <td>TFEEGY</td>\n",
       "      <td>2025-02-25</td>\n",
       "      <td>10</td>\n",
       "      <td>8.0</td>\n",
       "      <td>10.0</td>\n",
       "      <td>6.0</td>\n",
       "      <td>6.0</td>\n",
       "      <td>10.0</td>\n",
       "      <td>0</td>\n",
       "      <td>0</td>\n",
       "      <td>-1</td>\n",
       "    </tr>\n",
       "    <tr>\n",
       "      <th>2</th>\n",
       "      <td>TFCUYM</td>\n",
       "      <td>2025-02-25</td>\n",
       "      <td>1</td>\n",
       "      <td>NaN</td>\n",
       "      <td>NaN</td>\n",
       "      <td>NaN</td>\n",
       "      <td>NaN</td>\n",
       "      <td>NaN</td>\n",
       "      <td>0</td>\n",
       "      <td>2</td>\n",
       "      <td>0</td>\n",
       "    </tr>\n",
       "    <tr>\n",
       "      <th>3</th>\n",
       "      <td>TFEEAG</td>\n",
       "      <td>2025-02-18</td>\n",
       "      <td>10</td>\n",
       "      <td>10.0</td>\n",
       "      <td>10.0</td>\n",
       "      <td>10.0</td>\n",
       "      <td>10.0</td>\n",
       "      <td>10.0</td>\n",
       "      <td>2</td>\n",
       "      <td>0</td>\n",
       "      <td>1</td>\n",
       "    </tr>\n",
       "    <tr>\n",
       "      <th>4</th>\n",
       "      <td>TFEDWL</td>\n",
       "      <td>2025-02-18</td>\n",
       "      <td>9</td>\n",
       "      <td>9.0</td>\n",
       "      <td>6.0</td>\n",
       "      <td>6.0</td>\n",
       "      <td>7.0</td>\n",
       "      <td>6.0</td>\n",
       "      <td>0</td>\n",
       "      <td>2</td>\n",
       "      <td>-1</td>\n",
       "    </tr>\n",
       "  </tbody>\n",
       "</table>\n",
       "</div>"
      ],
      "text/plain": [
       "  CD_CLIENTE DATA_RESPOSTA  Nota NPS  Nota Agilidade  Nota Conhecimento  \\\n",
       "0     TB1393    2025-02-26         8             9.0                8.0   \n",
       "1     TFEEGY    2025-02-25        10             8.0               10.0   \n",
       "2     TFCUYM    2025-02-25         1             NaN                NaN   \n",
       "3     TFEEAG    2025-02-18        10            10.0               10.0   \n",
       "4     TFEDWL    2025-02-18         9             9.0                6.0   \n",
       "\n",
       "   Nota Custo  Nota Facilidade  Nota Flexibilidade  cluster  cluster_pca  \\\n",
       "0         8.0              8.0                 9.0        0            0   \n",
       "1         6.0              6.0                10.0        0            0   \n",
       "2         NaN              NaN                 NaN        0            2   \n",
       "3        10.0             10.0                10.0        2            0   \n",
       "4         6.0              7.0                 6.0        0            2   \n",
       "\n",
       "   cluster_dbscan  \n",
       "0              -1  \n",
       "1              -1  \n",
       "2               0  \n",
       "3               1  \n",
       "4              -1  "
      ]
     },
     "execution_count": 30,
     "metadata": {},
     "output_type": "execute_result"
    }
   ],
   "source": [
    "nps_aquisicao_df.head()"
   ]
  },
  {
   "cell_type": "code",
   "execution_count": 31,
   "id": "dd5fce5c-bf34-482a-bf2a-afded63c3c73",
   "metadata": {},
   "outputs": [
    {
     "data": {
      "text/html": [
       "<div>\n",
       "<style scoped>\n",
       "    .dataframe tbody tr th:only-of-type {\n",
       "        vertical-align: middle;\n",
       "    }\n",
       "\n",
       "    .dataframe tbody tr th {\n",
       "        vertical-align: top;\n",
       "    }\n",
       "\n",
       "    .dataframe thead th {\n",
       "        text-align: right;\n",
       "    }\n",
       "</style>\n",
       "<table border=\"1\" class=\"dataframe\">\n",
       "  <thead>\n",
       "    <tr style=\"text-align: right;\">\n",
       "      <th></th>\n",
       "      <th>CD_CLIENTE</th>\n",
       "      <th>DATA_RESPOSTA</th>\n",
       "      <th>Nota NPS</th>\n",
       "      <th>Nota Agilidade</th>\n",
       "      <th>Nota Conhecimento</th>\n",
       "      <th>Nota Custo</th>\n",
       "      <th>Nota Facilidade</th>\n",
       "      <th>Nota Flexibilidade</th>\n",
       "      <th>cluster_dbscan</th>\n",
       "    </tr>\n",
       "  </thead>\n",
       "  <tbody>\n",
       "    <tr>\n",
       "      <th>0</th>\n",
       "      <td>TB1393</td>\n",
       "      <td>2025-02-26</td>\n",
       "      <td>8</td>\n",
       "      <td>9.0</td>\n",
       "      <td>8.0</td>\n",
       "      <td>8.0</td>\n",
       "      <td>8.0</td>\n",
       "      <td>9.0</td>\n",
       "      <td>-1</td>\n",
       "    </tr>\n",
       "    <tr>\n",
       "      <th>1</th>\n",
       "      <td>TFEEGY</td>\n",
       "      <td>2025-02-25</td>\n",
       "      <td>10</td>\n",
       "      <td>8.0</td>\n",
       "      <td>10.0</td>\n",
       "      <td>6.0</td>\n",
       "      <td>6.0</td>\n",
       "      <td>10.0</td>\n",
       "      <td>-1</td>\n",
       "    </tr>\n",
       "    <tr>\n",
       "      <th>2</th>\n",
       "      <td>TFCUYM</td>\n",
       "      <td>2025-02-25</td>\n",
       "      <td>1</td>\n",
       "      <td>NaN</td>\n",
       "      <td>NaN</td>\n",
       "      <td>NaN</td>\n",
       "      <td>NaN</td>\n",
       "      <td>NaN</td>\n",
       "      <td>0</td>\n",
       "    </tr>\n",
       "    <tr>\n",
       "      <th>3</th>\n",
       "      <td>TFEEAG</td>\n",
       "      <td>2025-02-18</td>\n",
       "      <td>10</td>\n",
       "      <td>10.0</td>\n",
       "      <td>10.0</td>\n",
       "      <td>10.0</td>\n",
       "      <td>10.0</td>\n",
       "      <td>10.0</td>\n",
       "      <td>1</td>\n",
       "    </tr>\n",
       "    <tr>\n",
       "      <th>4</th>\n",
       "      <td>TFEDWL</td>\n",
       "      <td>2025-02-18</td>\n",
       "      <td>9</td>\n",
       "      <td>9.0</td>\n",
       "      <td>6.0</td>\n",
       "      <td>6.0</td>\n",
       "      <td>7.0</td>\n",
       "      <td>6.0</td>\n",
       "      <td>-1</td>\n",
       "    </tr>\n",
       "  </tbody>\n",
       "</table>\n",
       "</div>"
      ],
      "text/plain": [
       "  CD_CLIENTE DATA_RESPOSTA  Nota NPS  Nota Agilidade  Nota Conhecimento  \\\n",
       "0     TB1393    2025-02-26         8             9.0                8.0   \n",
       "1     TFEEGY    2025-02-25        10             8.0               10.0   \n",
       "2     TFCUYM    2025-02-25         1             NaN                NaN   \n",
       "3     TFEEAG    2025-02-18        10            10.0               10.0   \n",
       "4     TFEDWL    2025-02-18         9             9.0                6.0   \n",
       "\n",
       "   Nota Custo  Nota Facilidade  Nota Flexibilidade  cluster_dbscan  \n",
       "0         8.0              8.0                 9.0              -1  \n",
       "1         6.0              6.0                10.0              -1  \n",
       "2         NaN              NaN                 NaN               0  \n",
       "3        10.0             10.0                10.0               1  \n",
       "4         6.0              7.0                 6.0              -1  "
      ]
     },
     "execution_count": 31,
     "metadata": {},
     "output_type": "execute_result"
    }
   ],
   "source": [
    "nps_aquisicao_clusters_dbscan = nps_aquisicao_df.drop(['cluster', 'cluster_pca'], axis=1)\n",
    "nps_aquisicao_clusters_dbscan.head()"
   ]
  },
  {
   "cell_type": "markdown",
   "id": "3de205d6",
   "metadata": {},
   "source": [
    "A célula abaixo pode estar em formato raw para evitar risco de inserção no container novamente."
   ]
  },
  {
   "cell_type": "raw",
   "id": "ec988f39-be78-4078-95c9-1e033caf0c49",
   "metadata": {},
   "source": [
    "# 1. Converter o DataFrame para CSV em memória\n",
    "csv_buffer = StringIO()\n",
    "nps_aquisicao_clusters_dbscan.to_csv(csv_buffer, index=False, encoding=\"utf-8\")\n",
    "\n",
    "# 2. Criar client para o novo container\n",
    "container_name = \"clusters\"\n",
    "blob_name = \"nps_aquisicao_clusters.csv\"\n",
    "\n",
    "# Cria o container se ainda não existir\n",
    "#blob_service_client.create_container(container_name)\n",
    "\n",
    "# 3. Criar client do blob no novo container\n",
    "blob_client = blob_service_client.get_blob_client(\n",
    "    container=container_name,\n",
    "    blob=blob_name\n",
    ")\n",
    "\n",
    "# 4. Upload do CSV\n",
    "blob_client.upload_blob(csv_buffer.getvalue(), overwrite=True)\n",
    "\n",
    "print(\"Arquivo exportado para o container 'clusters' com sucesso!\")\n",
    "\n",
    "# Código colocado como raw para evitar risco de inserção no container repetidamente\n"
   ]
  },
  {
   "cell_type": "markdown",
   "id": "55e441c9-8308-4ac3-bd26-2934112da077",
   "metadata": {},
   "source": [
    "### 🔎 **Análise dos Clusters (DBSCAN)**\n",
    "\n",
    "Aqui, detalhamos cada cluster com insights, conclusões e playbooks para ações de negócio, alinhados às estratégias de personalização (McKinsey, Salesforce), redução de churn (RD Station), e upselling (Pagar.me).\n",
    "\n",
    "---\n",
    "\n",
    "#### **Cluster -1 (Ruído/Outliers)**\n",
    "\n",
    "* **Características**:\n",
    "  - Clientes com NPS alto, mas inconsistências (ex.: variações em Agilidade ou Facilidade, ou NaNs).\n",
    "  - Estimado ~40% do dataset.\n",
    "  - Comportamento não denso, sugerindo respostas atípicas ou transição na jornada.\n",
    "* **Conclusão**: Clientes voláteis, com potencial de churn (RD Station: 5-7% churn mensal em e-commerce) ou conversão em promotores via personalização (Adobe: segmentação flexível). Ideais para ações qualitativas e real-time (SAS).\n",
    "\n",
    "**Playbook para Ações**:\n",
    "1. **Diagnóstico (Dia 1)**: Extraia IDs (ex.: CD_CLIENTE) e cruze com dados comportamentais (ex.: compras via Receita Federal dados abertos).\n",
    "2. **Engajamento (Dias 2-3)**: Envie survey personalizado via email/SMS: \"Notamos variação em Custo – como podemos melhorar?\" (Exact Sales).\n",
    "3. **Correção (Semana 1)**: Ofereça incentivos (ex.: desconto em Flexibilidade, per Pagar.me cross-selling). Monitore NPS pós-ação.\n",
    "4. **Escala**: Use Marketing Cloud (Salesforce) para triggers automáticos baseados em scores.\n",
    "\n",
    "---\n",
    "\n",
    "#### **Cluster 0 (Detratores)**\n",
    "\n",
    "* **Características**:\n",
    "  - NPS baixo (0-1, ex.: TFCUYM com NPS 1, TFEDWT com NPS 0).\n",
    "  - Muitos NaNs, indicando frustração ou respostas incompletas.\n",
    "  - Alto risco de churn (E-commerce Brasil: 58% dos brasileiros citam despreparo em reclamações).\n",
    "* **Conclusão**: Clientes insatisfeitos, prioritários para retenção e melhoria operacional. Alinhado ao profiling para gaps (Medium) e prevenção de churn (RD Station).\n",
    "\n",
    "**Playbook para Ações**:\n",
    "1. **Diagnóstico (Imediato)**: Identifique gaps por atributo (ex.: Custo baixo). Envie survey: \"O que frustrou em Agilidade?\".\n",
    "2. **Recuperação (Dias 1-2)**: Ofereça compensação (ex.: suporte prioritário, per Exact Sales). Personalize com nome/região (Salesforce).\n",
    "3. **Melhoria Operacional (Semana 1)**: Treine equipes para gaps (ex.: 80% NaNs em Conhecimento → melhorar suporte). Automatize respostas rápidas.\n",
    "4. **Retenção (Semana 2+)**: Lance programa de fidelidade (cross-selling: bundle com desconto). **Métrica**: Converter 20% em neutros/promotores.\n",
    "5. **Escala**: Use IA para predição de churn (SAS), com ações real-time.\n",
    "\n",
    "---\n",
    "\n",
    "#### **Cluster 1 (Promotores Consistentes)**\n",
    "\n",
    "* **Características**:\n",
    "  - NPS 10 uniforme em todos atributos (ex.: TFEEAG, TFEBQC).\n",
    "  - Clientes premium, altamente satisfeitos, baixo risco de churn.\n",
    "  - Ideais para advocacy (LXA Hub: promotores geram 3x mais recomendações).\n",
    "* **Conclusão**: Base para upselling e marketing boca a boca (Pagar.me: upselling aumenta receita em 10-30%). Suporta personalização avançada (Salesforce).\n",
    "\n",
    "**Playbook para Ações**:\n",
    "1. **Reconhecimento (Imediato)**: Envie email: \"Obrigado pelo NPS 10!\" com badge VIP.\n",
    "2. **Upsell (Dias 1-3)**: Recomende produtos premium (ex.: \"Experimente nosso plano avançado\", per Pagar.me). Use dados regionais (Receita Federal).\n",
    "3. **Advocacy (Semana 1)**: Convide para referral/testimonial (incentivo: desconto para amigos). Use multichannel (SAS).\n",
    "4. **Monitoramento (Semana 2+)**: Track engajamento (ex.: abertura de emails >30%). **Métrica**: Aumentar upselling em 15%.\n",
    "5. **Escala**: Automatize journeys no Marketing Cloud (Salesforce).\n",
    "\n",
    "---\n",
    "\n",
    "#### **Cluster 2 (Promotores Parciais)**\n",
    "\n",
    "* **Características**:\n",
    "  - NPS alto, mas gaps (ex.: NaNs ou scores médios em Custo/Flexibilidade).\n",
    "  - Clientes com potencial para Cluster 1, mas com pontos de atrito.\n",
    "* **Conclusão**: Oportunidade de otimização para evitar churn sutil (RD Station) e impulsionar vendas (Exact Sales). Alinhado à personalização para gaps (McKinsey).\n",
    "\n",
    "**Playbook para Ações**:\n",
    "1. **Diagnóstico (Imediato)**: Identifique gaps (ex.: NaN em Custo → survey: \"Como melhorar o custo?\").\n",
    "2. **Personalização (Dias 1-2)**: Ofereça soluções específicas (ex.: demo para Conhecimento fraco, per Salesforce).\n",
    "3. **Upsell (Semana 1)**: Proponha plano que resolva gap (ex.: custo otimizado). Colete feedback.\n",
    "4. **Retenção (Semana 2+)**: Monitore NPS delta (alvo: +1 ponto). Use dados regionais (Receita Federal). **Métrica**: Migrar 25% para Cluster 1.\n",
    "5. **Escala**: Automatize com hub de marketing (SAS) para ações baseadas em scores.\n",
    "\n",
    "---\n",
    "\n",
    "### 📌 **Conclusões Gerais**\n",
    "\n",
    "* **Cluster -1**: Clientes voláteis, prioritários para análise qualitativa e personalização para evitar churn.\n",
    "* **Cluster 0**: Detratores, foco em recuperação e redução de churn (alta prioridade operacional).\n",
    "* **Cluster 1**: Promotores premium, ideais para upselling e advocacy (alto ROI).\n",
    "* **Cluster 2**: Promotores com gaps, oportunidade de conversão em premium via ações targeted.\n"
   ]
  },
  {
   "cell_type": "code",
   "execution_count": null,
   "id": "db7bfc6e-9881-4ae4-b162-81beb98d054f",
   "metadata": {},
   "outputs": [],
   "source": []
  }
 ],
 "metadata": {
  "kernelspec": {
   "display_name": ".venv",
   "language": "python",
   "name": "python3"
  },
  "language_info": {
   "codemirror_mode": {
    "name": "ipython",
    "version": 3
   },
   "file_extension": ".py",
   "mimetype": "text/x-python",
   "name": "python",
   "nbconvert_exporter": "python",
   "pygments_lexer": "ipython3",
   "version": "3.12.3"
  }
 },
 "nbformat": 4,
 "nbformat_minor": 5
}
