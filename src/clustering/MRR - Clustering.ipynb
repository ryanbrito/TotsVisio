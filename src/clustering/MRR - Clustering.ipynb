{
 "cells": [
  {
   "cell_type": "markdown",
   "id": "b5240480",
   "metadata": {},
   "source": [
    "# Anotação aos professores e avaliadores:\n",
    "Para o funcionamento adequado do código, é necessário que a variável `AZURE_ACCOUNT_KEY` na célula abaixo seja preenchida com a **secret key** enviada junto ao PDF do projeto, ou que essa chave seja configurada como variável de ambiente `export AZURE_ACCOUNT_KEY=\"secret_key_aqui\"`.\n",
    "Essa medida foi adotada por questões de segurança, uma vez que o repositório é público.\n",
    "Agradecemos desde já pela compreensão e colaboração."
   ]
  },
  {
   "cell_type": "code",
   "execution_count": 18,
   "id": "23bf47fc",
   "metadata": {},
   "outputs": [],
   "source": [
    "# Coloque aqui sua chave de conta do Azure\n",
    "AZURE_ACCOUNT_KEY = \"\""
   ]
  },
  {
   "cell_type": "markdown",
   "id": "d1fa26fd-ecc4-4079-ba66-f8db64164e1e",
   "metadata": {},
   "source": [
    "# Imports"
   ]
  },
  {
   "cell_type": "code",
   "execution_count": 16,
   "id": "3598fd3d-5b3b-4a74-9251-f73e64e99b99",
   "metadata": {},
   "outputs": [],
   "source": [
    "import os\n",
    "from io import BytesIO, StringIO\n",
    "\n",
    "import matplotlib.pyplot as plt\n",
    "import numpy as np\n",
    "import pandas as pd\n",
    "import seaborn as sns\n",
    "from azure.storage.blob import BlobServiceClient\n",
    "from mpl_toolkits.mplot3d import Axes3D\n",
    "from sklearn.cluster import KMeans\n",
    "from sklearn.decomposition import PCA\n",
    "from sklearn.manifold import TSNE\n",
    "from sklearn.metrics import silhouette_score\n",
    "from sklearn.preprocessing import StandardScaler\n"
   ]
  },
  {
   "cell_type": "markdown",
   "id": "d8b8740d-83b7-414b-9fd9-b3853820b86b",
   "metadata": {},
   "source": [
    "# Configuration"
   ]
  },
  {
   "cell_type": "code",
   "execution_count": 17,
   "id": "e2c07fee-da1b-400d-8de9-57d3ada970f0",
   "metadata": {},
   "outputs": [],
   "source": [
    "AZURE_ACCOUNT_KEY = os.environ.get(\"AZURE_ACCOUNT_KEY\", AZURE_ACCOUNT_KEY)\n",
    "if not AZURE_ACCOUNT_KEY:\n",
    "    raise ValueError(\"A chave da conta do Azure não foi definida. Por favor, defina a variável AZURE_ACCOUNT_KEY.\")\n",
    "\n",
    "AZURE_CONNECTION_STRING = f\"DefaultEndpointsProtocol=https;AccountName=totsvisiodb;AccountKey={AZURE_ACCOUNT_KEY};EndpointSuffix=core.windows.net\"\n",
    "\n",
    "# Inicializa o cliente do Blob\n",
    "blob_service_client = BlobServiceClient.from_connection_string(AZURE_CONNECTION_STRING)"
   ]
  },
  {
   "cell_type": "markdown",
   "id": "60bafcad-3de3-430a-8fa9-de9fb4010897",
   "metadata": {},
   "source": [
    "# Dataframe Definition:"
   ]
  },
  {
   "cell_type": "code",
   "execution_count": 19,
   "id": "958a86af-77e8-40cb-9a04-97195971b9cd",
   "metadata": {},
   "outputs": [],
   "source": [
    "CONTAINER_NAME = \"csvs-tratados-gpt\"\n",
    "BLOB_NAME = \"processed/2025-08-24_043101/mrr.csv\"\n",
    "\n",
    "blob_client = blob_service_client.get_blob_client(container=CONTAINER_NAME, blob=BLOB_NAME)\n",
    "downloaded_blob = blob_client.download_blob().readall()\n",
    "mrr_df = pd.read_csv(BytesIO(downloaded_blob), encoding=\"utf-8-sig\", sep=\";\")"
   ]
  },
  {
   "cell_type": "code",
   "execution_count": 20,
   "id": "d9799664-c146-45f4-b608-dc1f643e3eff",
   "metadata": {},
   "outputs": [
    {
     "data": {
      "text/html": [
       "<div>\n",
       "<style scoped>\n",
       "    .dataframe tbody tr th:only-of-type {\n",
       "        vertical-align: middle;\n",
       "    }\n",
       "\n",
       "    .dataframe tbody tr th {\n",
       "        vertical-align: top;\n",
       "    }\n",
       "\n",
       "    .dataframe thead th {\n",
       "        text-align: right;\n",
       "    }\n",
       "</style>\n",
       "<table border=\"1\" class=\"dataframe\">\n",
       "  <thead>\n",
       "    <tr style=\"text-align: right;\">\n",
       "      <th></th>\n",
       "      <th>CLIENTE</th>\n",
       "      <th>MRR_12M</th>\n",
       "    </tr>\n",
       "  </thead>\n",
       "  <tbody>\n",
       "    <tr>\n",
       "      <th>0</th>\n",
       "      <td>T03360</td>\n",
       "      <td>485.245250</td>\n",
       "    </tr>\n",
       "    <tr>\n",
       "      <th>1</th>\n",
       "      <td>T01872</td>\n",
       "      <td>287.070309</td>\n",
       "    </tr>\n",
       "    <tr>\n",
       "      <th>2</th>\n",
       "      <td>T01899</td>\n",
       "      <td>628.717296</td>\n",
       "    </tr>\n",
       "    <tr>\n",
       "      <th>3</th>\n",
       "      <td>T01670</td>\n",
       "      <td>207.503636</td>\n",
       "    </tr>\n",
       "    <tr>\n",
       "      <th>4</th>\n",
       "      <td>T02817</td>\n",
       "      <td>890.027855</td>\n",
       "    </tr>\n",
       "  </tbody>\n",
       "</table>\n",
       "</div>"
      ],
      "text/plain": [
       "  CLIENTE     MRR_12M\n",
       "0  T03360  485.245250\n",
       "1  T01872  287.070309\n",
       "2  T01899  628.717296\n",
       "3  T01670  207.503636\n",
       "4  T02817  890.027855"
      ]
     },
     "execution_count": 20,
     "metadata": {},
     "output_type": "execute_result"
    }
   ],
   "source": [
    "mrr_df.head()"
   ]
  },
  {
   "cell_type": "markdown",
   "id": "2bc97514-abfa-4b7f-b908-95e06e65dc61",
   "metadata": {},
   "source": [
    "# Clustering"
   ]
  },
  {
   "cell_type": "code",
   "execution_count": 21,
   "id": "59c54d84-3c30-4a2d-8f01-6e116b8dcd28",
   "metadata": {},
   "outputs": [],
   "source": [
    "# 1. Seleciona as features numéricas relevantes\n",
    "features = [\n",
    "    'MRR_12M'\n",
    "]\n",
    "X = mrr_df[features].copy()"
   ]
  },
  {
   "cell_type": "code",
   "execution_count": 22,
   "id": "803b4093-4ab2-4b62-a415-808f2b67fbd5",
   "metadata": {},
   "outputs": [],
   "source": [
    "# Trata NaNs (preencher com média)\n",
    "X = X.fillna(X.mean())"
   ]
  },
  {
   "cell_type": "code",
   "execution_count": 23,
   "id": "1abe3013-c7b7-4089-8541-3bd029d684aa",
   "metadata": {},
   "outputs": [],
   "source": [
    "# Padroniza os dados\n",
    "scaler = StandardScaler()\n",
    "X_scaled = scaler.fit_transform(X)"
   ]
  },
  {
   "cell_type": "code",
   "execution_count": 24,
   "id": "3cf43aff-b9b4-4e7a-a356-504dcea9170e",
   "metadata": {},
   "outputs": [],
   "source": [
    "# Aplica KMeans com 3 clusters (inicial)\n",
    "kmeans = KMeans(n_clusters=3, random_state=42, n_init=10)\n",
    "clusters = kmeans.fit_predict(X_scaled)"
   ]
  },
  {
   "cell_type": "code",
   "execution_count": 25,
   "id": "91371113-ab77-4d38-bf73-fc06fe1fd13a",
   "metadata": {},
   "outputs": [
    {
     "data": {
      "text/html": [
       "<div>\n",
       "<style scoped>\n",
       "    .dataframe tbody tr th:only-of-type {\n",
       "        vertical-align: middle;\n",
       "    }\n",
       "\n",
       "    .dataframe tbody tr th {\n",
       "        vertical-align: top;\n",
       "    }\n",
       "\n",
       "    .dataframe thead th {\n",
       "        text-align: right;\n",
       "    }\n",
       "</style>\n",
       "<table border=\"1\" class=\"dataframe\">\n",
       "  <thead>\n",
       "    <tr style=\"text-align: right;\">\n",
       "      <th></th>\n",
       "      <th>CLIENTE</th>\n",
       "      <th>MRR_12M</th>\n",
       "      <th>cluster</th>\n",
       "    </tr>\n",
       "  </thead>\n",
       "  <tbody>\n",
       "    <tr>\n",
       "      <th>0</th>\n",
       "      <td>T03360</td>\n",
       "      <td>485.245250</td>\n",
       "      <td>0</td>\n",
       "    </tr>\n",
       "    <tr>\n",
       "      <th>1</th>\n",
       "      <td>T01872</td>\n",
       "      <td>287.070309</td>\n",
       "      <td>0</td>\n",
       "    </tr>\n",
       "    <tr>\n",
       "      <th>2</th>\n",
       "      <td>T01899</td>\n",
       "      <td>628.717296</td>\n",
       "      <td>0</td>\n",
       "    </tr>\n",
       "    <tr>\n",
       "      <th>3</th>\n",
       "      <td>T01670</td>\n",
       "      <td>207.503636</td>\n",
       "      <td>0</td>\n",
       "    </tr>\n",
       "    <tr>\n",
       "      <th>4</th>\n",
       "      <td>T02817</td>\n",
       "      <td>890.027855</td>\n",
       "      <td>0</td>\n",
       "    </tr>\n",
       "  </tbody>\n",
       "</table>\n",
       "</div>"
      ],
      "text/plain": [
       "  CLIENTE     MRR_12M  cluster\n",
       "0  T03360  485.245250        0\n",
       "1  T01872  287.070309        0\n",
       "2  T01899  628.717296        0\n",
       "3  T01670  207.503636        0\n",
       "4  T02817  890.027855        0"
      ]
     },
     "execution_count": 25,
     "metadata": {},
     "output_type": "execute_result"
    }
   ],
   "source": [
    "# Adiciona os clusters ao DataFrame\n",
    "mrr_df['cluster'] = clusters\n",
    "\n",
    "# Visualiza os primeiros registros com clusters\n",
    "mrr_df.head()"
   ]
  },
  {
   "cell_type": "markdown",
   "id": "d1324e04",
   "metadata": {},
   "source": [
    "Visualizamos quantidade de clientes por cluster:"
   ]
  },
  {
   "cell_type": "code",
   "execution_count": 26,
   "id": "2005089f-2c35-4761-ad7d-9dd03ec4e30b",
   "metadata": {},
   "outputs": [
    {
     "data": {
      "text/plain": [
       "cluster\n",
       "0    6866\n",
       "2     436\n",
       "1       7\n",
       "Name: count, dtype: int64"
      ]
     },
     "execution_count": 26,
     "metadata": {},
     "output_type": "execute_result"
    }
   ],
   "source": [
    "mrr_df.cluster.value_counts()"
   ]
  },
  {
   "cell_type": "code",
   "execution_count": 27,
   "id": "cd052e37-0950-43f4-955b-a899ea1c1279",
   "metadata": {},
   "outputs": [
    {
     "name": "stdout",
     "output_type": "stream",
     "text": [
      "Silhouette Score: 0.812\n"
     ]
    }
   ],
   "source": [
    "# Validar com Silhouette Score\n",
    "sil_score = silhouette_score(X_scaled, clusters)\n",
    "print(f'Silhouette Score: {sil_score:.3f}')"
   ]
  },
  {
   "cell_type": "markdown",
   "id": "6e6b73f4",
   "metadata": {},
   "source": [
    "Visualizamos a distribuição dos clientes por cluster"
   ]
  },
  {
   "cell_type": "code",
   "execution_count": 30,
   "id": "db7bfc6e-9881-4ae4-b162-81beb98d054f",
   "metadata": {},
   "outputs": [
    {
     "data": {
      "image/png": "[encoded data removed]",
      "text/plain": [
       "<Figure size 1000x600 with 1 Axes>"
      ]
     },
     "metadata": {},
     "output_type": "display_data"
    }
   ],
   "source": [
    "plt.figure(figsize=(10, 6))\n",
    "sns.stripplot(data=mrr_df, x='MRR_12M', y='cluster', hue='cluster', palette='deep', jitter=0.2, size=5, orient='h')\n",
    "plt.xscale('log')\n",
    "plt.title('Stripplot of MRR_12M by KMeans Cluster')\n",
    "plt.xlabel('MRR_12M (Log Scale)')\n",
    "plt.ylabel('Cluster')\n",
    "plt.show()"
   ]
  },
  {
   "cell_type": "markdown",
   "id": "7ee7cce9",
   "metadata": {},
   "source": [
    "A célula abaixo pode estar em formato raw para evitar risco de inserção no container novamente."
   ]
  },
  {
   "cell_type": "code",
   "execution_count": 33,
   "id": "f98a9d16-34bb-4571-b372-2a0d3606381e",
   "metadata": {},
   "outputs": [
    {
     "name": "stdout",
     "output_type": "stream",
     "text": [
      "Arquivo exportado para o container 'clusters' com sucesso!\n"
     ]
    }
   ],
   "source": [
    "# Essa célula pode estar em formato raw para evitar risco de inserção no container repetidamente\n",
    "\n",
    "# 1. Convertemos o DataFrame para CSV em memória\n",
    "csv_buffer = StringIO()\n",
    "mrr_df.to_csv(csv_buffer, index=False, encoding=\"utf-8\")\n",
    "\n",
    "# 2. Criamos um client para o novo container\n",
    "container_name = \"clusters\"\n",
    "blob_name = \"mrr_clusters.csv\"\n",
    "\n",
    "# Cria o container se ainda não existir\n",
    "#blob_service_client.create_container(container_name) # Comentamos para não ocasionar erro ao tentar criar um container já existente\n",
    "\n",
    "# 3. Criamos client do blob no novo container\n",
    "blob_client = blob_service_client.get_blob_client(\n",
    "    container=container_name,\n",
    "    blob=blob_name\n",
    ")\n",
    "\n",
    "# 4. Upload do CSV\n",
    "blob_client.upload_blob(csv_buffer.getvalue(), overwrite=True)\n",
    "\n",
    "print(\"Arquivo exportado para o container 'clusters' com sucesso!\")\n"
   ]
  },
  {
   "cell_type": "code",
   "execution_count": null,
   "id": "738dd67f",
   "metadata": {},
   "outputs": [],
   "source": []
  }
 ],
 "metadata": {
  "kernelspec": {
   "display_name": "Python 3",
   "language": "python",
   "name": "python3"
  },
  "language_info": {
   "codemirror_mode": {
    "name": "ipython",
    "version": 3
   },
   "file_extension": ".py",
   "mimetype": "text/x-python",
   "name": "python",
   "nbconvert_exporter": "python",
   "pygments_lexer": "ipython3",
   "version": "3.12.3"
  }
 },
 "nbformat": 4,
 "nbformat_minor": 5
}
