{
 "cells": [
  {
   "cell_type": "markdown",
   "id": "69068904",
   "metadata": {},
   "source": [
    "# Anotação aos professores e avaliadores:\n",
    "Para o funcionamento adequado do código, é necessário que a variável `AZURE_ACCOUNT_KEY` na célula abaixo seja preenchida com a **secret key** enviada junto ao PDF do projeto, ou que essa chave seja configurada como variável de ambiente `export AZURE_ACCOUNT_KEY=\"secret_key_aqui\"`.\n",
    "Essa medida foi adotada por questões de segurança, uma vez que o repositório é público.\n",
    "Agradecemos desde já pela compreensão e colaboração."
   ]
  },
  {
   "cell_type": "code",
   "execution_count": null,
   "id": "c01d2e20",
   "metadata": {},
   "outputs": [],
   "source": [
    "# Coloque aqui sua chave de conta do Azure\n",
    "AZURE_ACCOUNT_KEY = \"\"  # <-- INSIRA AQUI SUA CHAVE DO AZURE Entre as aspas duplas"
   ]
  },
  {
   "cell_type": "markdown",
   "id": "b1b693b4",
   "metadata": {},
   "source": [
    "# Pipeline de Tratamento & Upload para Azure\n"
   ]
  },
  {
   "cell_type": "markdown",
   "id": "238e57be",
   "metadata": {},
   "source": [
    "\n",
    "> Caso instalar dependências seja necessário, use a célula abaixo. **Opcional**.\n"
   ]
  },
  {
   "cell_type": "code",
   "execution_count": 11,
   "id": "06093acf",
   "metadata": {},
   "outputs": [],
   "source": [
    "\n",
    "# Instalação de dependências (execute se necessário)\n",
    "# - azure-storage-blob\n",
    "# - pandas (opcional, caso use o bloco de tratamento)\n",
    "#\n",
    "# Dica: em ambientes corporativos, prefira instalar via conda/anaconda.\n",
    "# !pip install --quiet azure-storage-blob pandas\n"
   ]
  },
  {
   "cell_type": "markdown",
   "id": "c960fbe6",
   "metadata": {},
   "source": [
    "## Imports"
   ]
  },
  {
   "cell_type": "code",
   "execution_count": 12,
   "id": "e8e62915",
   "metadata": {},
   "outputs": [],
   "source": [
    "import os\n",
    "from datetime import datetime\n",
    "from io import BytesIO, StringIO\n",
    "\n",
    "import matplotlib.pyplot as plt\n",
    "import numpy as np\n",
    "import pandas as pd\n",
    "import seaborn as sns\n",
    "from azure.storage.blob import BlobServiceClient\n",
    "from azure.core.exceptions import ResourceExistsError\n",
    "from mpl_toolkits.mplot3d import Axes3D\n",
    "from sklearn.cluster import KMeans\n",
    "from sklearn.decomposition import PCA\n",
    "from sklearn.manifold import TSNE\n",
    "from sklearn.metrics import silhouette_score\n",
    "from sklearn.preprocessing import StandardScaler\n",
    "\n",
    "from tratamento import *"
   ]
  },
  {
   "cell_type": "markdown",
   "id": "aed83652",
   "metadata": {},
   "source": [
    "## Configuração e Verificação de arquivos CSV"
   ]
  },
  {
   "cell_type": "code",
   "execution_count": 13,
   "id": "d23f0829",
   "metadata": {},
   "outputs": [],
   "source": [
    "AZURE_ACCOUNT_KEY = os.environ.get(\"AZURE_ACCOUNT_KEY\", AZURE_ACCOUNT_KEY)\n",
    "if not AZURE_ACCOUNT_KEY:\n",
    "    raise ValueError(\"A chave da conta do Azure não foi definida. Por favor, defina a variável AZURE_ACCOUNT_KEY.\")\n",
    "\n",
    "AZURE_CONNECTION_STRING = f\"DefaultEndpointsProtocol=https;AccountName=totsvisiodb;AccountKey={AZURE_ACCOUNT_KEY};EndpointSuffix=core.windows.net\"\n",
    "\n",
    "# Inicializa o cliente do Blob\n",
    "blob_service_client = BlobServiceClient.from_connection_string(AZURE_CONNECTION_STRING)"
   ]
  },
  {
   "cell_type": "code",
   "execution_count": 14,
   "id": "b358d796",
   "metadata": {},
   "outputs": [],
   "source": [
    "CONTAINER_NAME = \"csvs-brutos-totvs\"\n",
    "container_client = blob_service_client.get_container_client(CONTAINER_NAME)"
   ]
  },
  {
   "cell_type": "code",
   "execution_count": 15,
   "id": "522f35a3",
   "metadata": {},
   "outputs": [
    {
     "name": "stdout",
     "output_type": "stream",
     "text": [
      "📂 Listando arquivos presentes no container:\n",
      " - clientes_desde.csv\n",
      " - contratacoes_ultimos_12_meses.csv\n",
      " - dados_clientes.csv\n",
      " - dicionario.xlsx\n",
      " - historico.csv\n",
      " - mrr.csv\n",
      " - nps_relacional.csv\n",
      " - nps_transacional_aquisicao.csv\n",
      " - nps_transacional_implantacao.csv\n",
      " - nps_transacional_onboarding.csv\n",
      " - nps_transacional_produto.csv\n",
      " - nps_transacional_suporte.csv\n",
      " - telemetria_1.csv\n",
      " - telemetria_10.csv\n",
      " - telemetria_11.csv\n",
      " - telemetria_2.csv\n",
      " - telemetria_3.csv\n",
      " - telemetria_4.csv\n",
      " - telemetria_5.csv\n",
      " - telemetria_6.csv\n",
      " - telemetria_7.csv\n",
      " - telemetria_8.csv\n",
      " - telemetria_9.csv\n",
      " - tickets.csv\n"
     ]
    }
   ],
   "source": [
    "# Listar arquivos\n",
    "print(\"📂 Listando arquivos presentes no container:\")\n",
    "blobs = list(container_client.list_blobs())\n",
    "\n",
    "if blobs:\n",
    "    for blob in blobs:\n",
    "        print(f\" - {blob.name}\")\n",
    "else:\n",
    "    print(\"⚠ Nenhum arquivo encontrado no container.\")\n"
   ]
  },
  {
   "cell_type": "code",
   "execution_count": 16,
   "id": "dbcfb9fb",
   "metadata": {},
   "outputs": [],
   "source": [
    "tratamentos = {\n",
    "    'clientes_desde.csv': tratar_clientes_desde,\n",
    "    'contratacoes_ultimos_12_meses.csv': tratar_contratacoes_12m,\n",
    "    'dados_clientes.csv': tratar_dados_clientes,\n",
    "    'historico.csv': tratar_historico,\n",
    "    'mrr.csv': tratar_mrr,\n",
    "    'nps_relacional.csv': tratar_nps_relacional,\n",
    "    'nps_transacional_aquisicao.csv': tratar_nps_aquisicao,\n",
    "    'nps_transacional_implantacao.csv': tratar_nps_implantacao,\n",
    "    'nps_transacional_onboarding.csv': tratar_nps_onboarding,\n",
    "    'nps_transacional_produto.csv': tratar_nps_produto,\n",
    "    'nps_transacional_suporte.csv': tratar_nps_suporte,\n",
    "    'tickets.csv': tratar_tickets,\n",
    "    'telemetria_1.csv': tratar_telemetria,\n",
    "    'telemetria_2.csv': tratar_telemetria,\n",
    "    'telemetria_3.csv': tratar_telemetria,\n",
    "    'telemetria_4.csv': tratar_telemetria,\n",
    "    'telemetria_5.csv': tratar_telemetria,\n",
    "    'telemetria_6.csv': tratar_telemetria,\n",
    "    'telemetria_7.csv': tratar_telemetria,\n",
    "    'telemetria_8.csv': tratar_telemetria,\n",
    "    'telemetria_9.csv': tratar_telemetria,\n",
    "    'telemetria_10.csv': tratar_telemetria,\n",
    "    'telemetria_11.csv': tratar_telemetria\n",
    "}"
   ]
  },
  {
   "cell_type": "code",
   "execution_count": 17,
   "id": "8a71e6a0",
   "metadata": {},
   "outputs": [],
   "source": [
    "CONTAINER_PROCESSADOS = \"csvs-tratados-gpt\""
   ]
  },
  {
   "cell_type": "code",
   "execution_count": null,
   "id": "07182ba6",
   "metadata": {},
   "outputs": [
    {
     "name": "stdout",
     "output_type": "stream",
     "text": [
      "🔄 Processando arquivo: clientes_desde.csv\n",
      "✅ Arquivo clientes_desde tratado\n",
      "✅ Arquivo clientes_desde.csv exportado para o container 'clusters' com sucesso!\n",
      "\n",
      "---\n",
      "\n",
      "🔄 Processando arquivo: contratacoes_ultimos_12_meses.csv\n",
      "✅ Arquivo contratacoes_12m tratado\n",
      "✅ Arquivo contratacoes_ultimos_12_meses.csv exportado para o container 'clusters' com sucesso!\n",
      "\n",
      "---\n",
      "\n",
      "🔄 Processando arquivo: dados_clientes.csv\n",
      "✅ Arquivo dados_clientes tratado\n",
      "✅ Arquivo dados_clientes.csv exportado para o container 'clusters' com sucesso!\n",
      "\n",
      "---\n",
      "\n",
      "🔄 Processando arquivo: historico.csv\n",
      "✅ Arquivo historico tratado\n",
      "✅ Arquivo historico.csv exportado para o container 'clusters' com sucesso!\n",
      "\n",
      "---\n",
      "\n",
      "🔄 Processando arquivo: mrr.csv\n",
      "✅ Arquivo mrr tratado\n",
      "✅ Arquivo mrr.csv exportado para o container 'clusters' com sucesso!\n",
      "\n",
      "---\n",
      "\n",
      "🔄 Processando arquivo: nps_relacional.csv\n",
      "✅ Arquivo nps_relacional tratado\n",
      "✅ Arquivo nps_relacional.csv exportado para o container 'clusters' com sucesso!\n",
      "\n",
      "---\n",
      "\n",
      "🔄 Processando arquivo: nps_transacional_aquisicao.csv\n",
      "✅ Arquivo nps_aquisicao tratado\n",
      "✅ Arquivo nps_transacional_aquisicao.csv exportado para o container 'clusters' com sucesso!\n",
      "\n",
      "---\n",
      "\n",
      "🔄 Processando arquivo: nps_transacional_implantacao.csv\n",
      "✅ Arquivo nps_implantacao tratado\n",
      "✅ Arquivo nps_transacional_implantacao.csv exportado para o container 'clusters' com sucesso!\n",
      "\n",
      "---\n",
      "\n",
      "🔄 Processando arquivo: nps_transacional_onboarding.csv\n",
      "✅ Arquivo nps_onboarding tratado\n",
      "✅ Arquivo nps_transacional_onboarding.csv exportado para o container 'clusters' com sucesso!\n",
      "\n",
      "---\n",
      "\n",
      "🔄 Processando arquivo: nps_transacional_produto.csv\n"
     ]
    },
    {
     "name": "stderr",
     "output_type": "stream",
     "text": [
      "/home/ryan/fiap/TotsVisio/src/processing/tratamento.py:147: UserWarning: Could not infer format, so each element will be parsed individually, falling back to `dateutil`. To ensure parsing is consistent and as-expected, please specify a format.\n",
      "  df['DATA_RESPOSTA'] = pd.to_datetime(df['DATA_RESPOSTA'], errors='coerce')\n"
     ]
    },
    {
     "name": "stdout",
     "output_type": "stream",
     "text": [
      "✅ Arquivo nps_produto tratado\n",
      "✅ Arquivo nps_transacional_produto.csv exportado para o container 'clusters' com sucesso!\n",
      "\n",
      "---\n",
      "\n",
      "🔄 Processando arquivo: nps_transacional_suporte.csv\n",
      "✅ Arquivo nps_suporte tratado\n",
      "✅ Arquivo nps_transacional_suporte.csv exportado para o container 'clusters' com sucesso!\n",
      "\n",
      "---\n",
      "\n",
      "🔄 Processando arquivo: tickets.csv\n",
      "✅ Arquivo tickets tratado\n",
      "✅ Arquivo tickets.csv exportado para o container 'clusters' com sucesso!\n",
      "\n",
      "---\n",
      "\n",
      "🔄 Processando arquivo: telemetria_1.csv\n",
      "✅ Arquivo telemetria tratado\n",
      "✅ Arquivo telemetria_1.csv exportado para o container 'clusters' com sucesso!\n",
      "\n",
      "---\n",
      "\n",
      "🔄 Processando arquivo: telemetria_2.csv\n",
      "✅ Arquivo telemetria tratado\n",
      "✅ Arquivo telemetria_2.csv exportado para o container 'clusters' com sucesso!\n",
      "\n",
      "---\n",
      "\n",
      "yeah\n"
     ]
    }
   ],
   "source": [
    "for nome_arquivo, funcao in tratamentos.items():\n",
    "    print(f\"🔄 Processando arquivo: {nome_arquivo}\")\n",
    "    blob_client = blob_service_client.get_blob_client(container=CONTAINER_NAME, blob=nome_arquivo)\n",
    "    downloaded_blob = BytesIO(blob_client.download_blob().readall())\n",
    "    df_tratado = funcao(downloaded_blob)\n",
    "    csv_buffer = StringIO()\n",
    "    df_tratado.to_csv(csv_buffer, index=False, encoding=\"utf-8-sig\")\n",
    "\n",
    "    # Cria o container se ainda não existir\n",
    "    #blob_service_client.create_container(container_name) # Comentamos para não ocasionar erro ao tentar criar um container já existente\n",
    "\n",
    "    # 3. Criamos client do blob no novo container\n",
    "    blob_client = blob_service_client.get_blob_client(\n",
    "        container=CONTAINER_PROCESSADOS,\n",
    "        blob=nome_arquivo\n",
    "    )\n",
    "\n",
    "    # 4. Upload do CSV\n",
    "    blob_client.upload_blob(csv_buffer.getvalue(), overwrite=True)\n",
    "\n",
    "    print(f\"✅ Arquivo {nome_arquivo} exportado para o container 'clusters' com sucesso!\")\n",
    "    print(\"\\n---\\n\")\n"
   ]
  },
  {
   "cell_type": "code",
   "execution_count": null,
   "id": "fea4f0dd",
   "metadata": {},
   "outputs": [],
   "source": []
  }
 ],
 "metadata": {
  "kernelspec": {
   "display_name": ".venv",
   "language": "python",
   "name": "python3"
  },
  "language_info": {
   "codemirror_mode": {
    "name": "ipython",
    "version": 3
   },
   "file_extension": ".py",
   "mimetype": "text/x-python",
   "name": "python",
   "nbconvert_exporter": "python",
   "pygments_lexer": "ipython3",
   "version": "3.12.3"
  }
 },
 "nbformat": 4,
 "nbformat_minor": 5
}
